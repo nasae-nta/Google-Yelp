{
 "cells": [
  {
   "cell_type": "markdown",
   "metadata": {},
   "source": [
    "### Etl Tip\n"
   ]
  },
  {
   "cell_type": "code",
   "execution_count": 8,
   "metadata": {},
   "outputs": [],
   "source": [
    "\n",
    "import pandas as pd\n",
    "import pyarrow as pa\n",
    "import pyarrow.parquet as pq\n",
    "import numpy as np\n",
    "import matplotlib.pylab as plt\n",
    "%matplotlib inline\n",
    "import matplotlib as mpl\n",
    "mpl.rcParams.update(mpl.rcParamsDefault)\n",
    "import os\n",
    "import json\n",
    "import ast\n",
    "import gzip\n",
    "import matplotlib.pyplot as plt\n",
    "import seaborn as sns\n",
    "import plotly.offline as py\n",
    "import plotly.graph_objs as go\n",
    "import plotly.tools as tls\n",
    "import plotly.express as px\n",
    "%matplotlib inline\n",
    "import nltk\n",
    "from nltk.corpus import stopwords\n",
    "import wordcloud\n",
    "from wordcloud import WordCloud, STOPWORDS\n",
    "from datetime import datetime"
   ]
  },
  {
   "cell_type": "code",
   "execution_count": 10,
   "metadata": {},
   "outputs": [
    {
     "name": "stdout",
     "output_type": "stream",
     "text": [
      "                  user_id             business_id  \\\n",
      "0  AGNUgVwnZUey3gcPCJ76iw  3uLgwr0qeCNMjKenHJwPGQ   \n",
      "1  NBN4MgHP9D3cw--SnauTkA  QoezRbYQncpRqyrLH6Iqjg   \n",
      "2  -copOvldyKh1qr-vzkDEvw  MYoRNLb5chwjQe3c_k37Gg   \n",
      "3  FjMQVZjSqY8syIO-53KFKw  hV-bABTK-glh5wj31ps_Jw   \n",
      "4  ld0AperBXk1h6UbqmM80zw  _uN0OudeJ3Zl_tf6nxg5ww   \n",
      "\n",
      "                                                text                date  \\\n",
      "0                     Avengers time with the ladies. 2012-05-18 02:17:21   \n",
      "1  They have lots of good deserts and tasty cuban... 2013-02-05 18:35:10   \n",
      "2             It's open even when you think it isn't 2013-08-18 00:56:08   \n",
      "3                          Very decent fried chicken 2017-06-27 23:05:38   \n",
      "4             Appetizers.. platter special for lunch 2012-10-06 19:43:09   \n",
      "\n",
      "   compliment_count  \n",
      "0                 0  \n",
      "1                 0  \n",
      "2                 0  \n",
      "3                 0  \n",
      "4                 0  \n"
     ]
    }
   ],
   "source": [
    "\n",
    "# Definir la ruta del archivo Parquet\n",
    "ruta_archivo = 'c:\\\\Users\\\\Sofia\\\\Desktop\\\\tip.parquet'\n",
    "\n",
    "# Leer el archivo Parquet y cargarlo en un DataFrame\n",
    "df_tip = pd.read_parquet(ruta_archivo)\n",
    "\n",
    "# Mostrar las primeras filas para verificar la carga\n",
    "print(df_tip.head())"
   ]
  },
  {
   "cell_type": "code",
   "execution_count": 3,
   "metadata": {},
   "outputs": [
    {
     "data": {
      "text/html": [
       "<div>\n",
       "<style scoped>\n",
       "    .dataframe tbody tr th:only-of-type {\n",
       "        vertical-align: middle;\n",
       "    }\n",
       "\n",
       "    .dataframe tbody tr th {\n",
       "        vertical-align: top;\n",
       "    }\n",
       "\n",
       "    .dataframe thead th {\n",
       "        text-align: right;\n",
       "    }\n",
       "</style>\n",
       "<table border=\"1\" class=\"dataframe\">\n",
       "  <thead>\n",
       "    <tr style=\"text-align: right;\">\n",
       "      <th></th>\n",
       "      <th>user_id</th>\n",
       "      <th>business_id</th>\n",
       "      <th>text</th>\n",
       "      <th>date</th>\n",
       "      <th>compliment_count</th>\n",
       "    </tr>\n",
       "  </thead>\n",
       "  <tbody>\n",
       "    <tr>\n",
       "      <th>262169</th>\n",
       "      <td>10yZLcySWgd3i2cTtRGkvg</td>\n",
       "      <td>ZtAO8lm9H05HSaPx47ArVA</td>\n",
       "      <td>One of the few places around that serves Maryl...</td>\n",
       "      <td>2014-08-03 02:04:28</td>\n",
       "      <td>0</td>\n",
       "    </tr>\n",
       "    <tr>\n",
       "      <th>93201</th>\n",
       "      <td>ZQi_M3cUzOajZI-pt1lbHQ</td>\n",
       "      <td>qmiz3iYOn4pZylOe27OTUQ</td>\n",
       "      <td>Terrible service,  food was ok.</td>\n",
       "      <td>2013-05-12 23:34:23</td>\n",
       "      <td>0</td>\n",
       "    </tr>\n",
       "    <tr>\n",
       "      <th>565654</th>\n",
       "      <td>d_wcOwjrWTaAUXuYzCJAHw</td>\n",
       "      <td>49Gyz-LD9MxTh1yzbYiOhw</td>\n",
       "      <td>Great coffee and friendly staff!</td>\n",
       "      <td>2017-07-09 18:11:28</td>\n",
       "      <td>0</td>\n",
       "    </tr>\n",
       "    <tr>\n",
       "      <th>483333</th>\n",
       "      <td>xkh2PF-psmoqSx7HWr_-TQ</td>\n",
       "      <td>c_4c5rJECZSfNgFj7frwHQ</td>\n",
       "      <td>Love this airport clean and easy to navigate a...</td>\n",
       "      <td>2018-07-30 19:30:06</td>\n",
       "      <td>0</td>\n",
       "    </tr>\n",
       "    <tr>\n",
       "      <th>479476</th>\n",
       "      <td>YqAUoP_mO9v7MYuxYVXuIQ</td>\n",
       "      <td>q0Q-ohZp8iV9OY-gkNPPwg</td>\n",
       "      <td>Excellent</td>\n",
       "      <td>2019-05-18 18:03:28</td>\n",
       "      <td>0</td>\n",
       "    </tr>\n",
       "  </tbody>\n",
       "</table>\n",
       "</div>"
      ],
      "text/plain": [
       "                       user_id             business_id  \\\n",
       "262169  10yZLcySWgd3i2cTtRGkvg  ZtAO8lm9H05HSaPx47ArVA   \n",
       "93201   ZQi_M3cUzOajZI-pt1lbHQ  qmiz3iYOn4pZylOe27OTUQ   \n",
       "565654  d_wcOwjrWTaAUXuYzCJAHw  49Gyz-LD9MxTh1yzbYiOhw   \n",
       "483333  xkh2PF-psmoqSx7HWr_-TQ  c_4c5rJECZSfNgFj7frwHQ   \n",
       "479476  YqAUoP_mO9v7MYuxYVXuIQ  q0Q-ohZp8iV9OY-gkNPPwg   \n",
       "\n",
       "                                                     text                date  \\\n",
       "262169  One of the few places around that serves Maryl... 2014-08-03 02:04:28   \n",
       "93201                     Terrible service,  food was ok. 2013-05-12 23:34:23   \n",
       "565654                   Great coffee and friendly staff! 2017-07-09 18:11:28   \n",
       "483333  Love this airport clean and easy to navigate a... 2018-07-30 19:30:06   \n",
       "479476                                          Excellent 2019-05-18 18:03:28   \n",
       "\n",
       "        compliment_count  \n",
       "262169                 0  \n",
       "93201                  0  \n",
       "565654                 0  \n",
       "483333                 0  \n",
       "479476                 0  "
      ]
     },
     "execution_count": 3,
     "metadata": {},
     "output_type": "execute_result"
    }
   ],
   "source": [
    "df_tip.sample(5)"
   ]
  },
  {
   "cell_type": "code",
   "execution_count": 11,
   "metadata": {},
   "outputs": [
    {
     "data": {
      "text/plain": [
       "(908915, 5)"
      ]
     },
     "execution_count": 11,
     "metadata": {},
     "output_type": "execute_result"
    }
   ],
   "source": [
    "df_tip.shape"
   ]
  },
  {
   "cell_type": "code",
   "execution_count": 12,
   "metadata": {},
   "outputs": [
    {
     "data": {
      "text/plain": [
       "<bound method DataFrame.info of                        user_id             business_id  \\\n",
       "0       AGNUgVwnZUey3gcPCJ76iw  3uLgwr0qeCNMjKenHJwPGQ   \n",
       "1       NBN4MgHP9D3cw--SnauTkA  QoezRbYQncpRqyrLH6Iqjg   \n",
       "2       -copOvldyKh1qr-vzkDEvw  MYoRNLb5chwjQe3c_k37Gg   \n",
       "3       FjMQVZjSqY8syIO-53KFKw  hV-bABTK-glh5wj31ps_Jw   \n",
       "4       ld0AperBXk1h6UbqmM80zw  _uN0OudeJ3Zl_tf6nxg5ww   \n",
       "...                        ...                     ...   \n",
       "908910  eYodOTF8pkqKPzHkcxZs-Q  3lHTewuKFt5IImbXJoFeDQ   \n",
       "908911  1uxtQAuJ2T5Xwa_wp7kUnA  OaGf0Dp56ARhQwIDT90w_g   \n",
       "908912  v48Spe6WEpqehsF2xQADpg  hYnMeAO77RGyTtIzUSKYzQ   \n",
       "908913  ckqKGM2hl7I9Chp5IpAhkw  s2eyoTuJrcP7I_XyjdhUHQ   \n",
       "908914  4tF1CWdMxvvwpUIgGsDygA  _cb1Vg1NIWry8UA0jyuXnQ   \n",
       "\n",
       "                                                     text                date  \\\n",
       "0                          Avengers time with the ladies. 2012-05-18 02:17:21   \n",
       "1       They have lots of good deserts and tasty cuban... 2013-02-05 18:35:10   \n",
       "2                  It's open even when you think it isn't 2013-08-18 00:56:08   \n",
       "3                               Very decent fried chicken 2017-06-27 23:05:38   \n",
       "4                  Appetizers.. platter special for lunch 2012-10-06 19:43:09   \n",
       "...                                                   ...                 ...   \n",
       "908910              Disappointed in one of your managers. 2021-09-11 19:18:57   \n",
       "908911                            Great food and service. 2021-10-30 11:54:36   \n",
       "908912                                Love their Cubans!! 2021-11-05 13:18:56   \n",
       "908913                            Great pizza great price 2021-11-20 16:11:44   \n",
       "908914                  Food is good value but a bit hot! 2021-12-07 22:30:00   \n",
       "\n",
       "        compliment_count  \n",
       "0                      0  \n",
       "1                      0  \n",
       "2                      0  \n",
       "3                      0  \n",
       "4                      0  \n",
       "...                  ...  \n",
       "908910                 0  \n",
       "908911                 0  \n",
       "908912                 0  \n",
       "908913                 0  \n",
       "908914                 0  \n",
       "\n",
       "[908915 rows x 5 columns]>"
      ]
     },
     "execution_count": 12,
     "metadata": {},
     "output_type": "execute_result"
    }
   ],
   "source": [
    "df_tip.info"
   ]
  },
  {
   "cell_type": "code",
   "execution_count": 13,
   "metadata": {},
   "outputs": [
    {
     "data": {
      "text/plain": [
       "user_id             0\n",
       "business_id         0\n",
       "text                0\n",
       "date                0\n",
       "compliment_count    0\n",
       "dtype: int64"
      ]
     },
     "execution_count": 13,
     "metadata": {},
     "output_type": "execute_result"
    }
   ],
   "source": [
    "df_tip.isnull().sum()"
   ]
  },
  {
   "cell_type": "code",
   "execution_count": 14,
   "metadata": {},
   "outputs": [
    {
     "data": {
      "text/plain": [
       "np.int64(67)"
      ]
     },
     "execution_count": 14,
     "metadata": {},
     "output_type": "execute_result"
    }
   ],
   "source": [
    "\n",
    "df_tip.duplicated().sum()"
   ]
  },
  {
   "cell_type": "code",
   "execution_count": 15,
   "metadata": {},
   "outputs": [],
   "source": [
    "df_gral_tip = df_tip.drop_duplicates()"
   ]
  },
  {
   "cell_type": "code",
   "execution_count": 16,
   "metadata": {},
   "outputs": [
    {
     "data": {
      "text/plain": [
       "0         False\n",
       "1         False\n",
       "2         False\n",
       "3         False\n",
       "4         False\n",
       "          ...  \n",
       "908910    False\n",
       "908911    False\n",
       "908912    False\n",
       "908913    False\n",
       "908914    False\n",
       "Length: 908848, dtype: bool"
      ]
     },
     "execution_count": 16,
     "metadata": {},
     "output_type": "execute_result"
    }
   ],
   "source": [
    "df_gral_tip.duplicated()\n"
   ]
  },
  {
   "cell_type": "code",
   "execution_count": 17,
   "metadata": {},
   "outputs": [
    {
     "name": "stdout",
     "output_type": "stream",
     "text": [
      "                       user_id             business_id  \\\n",
      "0       AGNUgVwnZUey3gcPCJ76iw  3uLgwr0qeCNMjKenHJwPGQ   \n",
      "1       NBN4MgHP9D3cw--SnauTkA  QoezRbYQncpRqyrLH6Iqjg   \n",
      "2       -copOvldyKh1qr-vzkDEvw  MYoRNLb5chwjQe3c_k37Gg   \n",
      "3       FjMQVZjSqY8syIO-53KFKw  hV-bABTK-glh5wj31ps_Jw   \n",
      "4       ld0AperBXk1h6UbqmM80zw  _uN0OudeJ3Zl_tf6nxg5ww   \n",
      "...                        ...                     ...   \n",
      "908843  eYodOTF8pkqKPzHkcxZs-Q  3lHTewuKFt5IImbXJoFeDQ   \n",
      "908844  1uxtQAuJ2T5Xwa_wp7kUnA  OaGf0Dp56ARhQwIDT90w_g   \n",
      "908845  v48Spe6WEpqehsF2xQADpg  hYnMeAO77RGyTtIzUSKYzQ   \n",
      "908846  ckqKGM2hl7I9Chp5IpAhkw  s2eyoTuJrcP7I_XyjdhUHQ   \n",
      "908847  4tF1CWdMxvvwpUIgGsDygA  _cb1Vg1NIWry8UA0jyuXnQ   \n",
      "\n",
      "                                                     text        date  \\\n",
      "0                          Avengers time with the ladies.  2012-05-18   \n",
      "1       They have lots of good deserts and tasty cuban...  2013-02-05   \n",
      "2                  It's open even when you think it isn't  2013-08-18   \n",
      "3                               Very decent fried chicken  2017-06-27   \n",
      "4                  Appetizers.. platter special for lunch  2012-10-06   \n",
      "...                                                   ...         ...   \n",
      "908843              Disappointed in one of your managers.  2021-09-11   \n",
      "908844                            Great food and service.  2021-10-30   \n",
      "908845                                Love their Cubans!!  2021-11-05   \n",
      "908846                            Great pizza great price  2021-11-20   \n",
      "908847                  Food is good value but a bit hot!  2021-12-07   \n",
      "\n",
      "            hour  compliment_count  \n",
      "0       02:17:21                 0  \n",
      "1       18:35:10                 0  \n",
      "2       00:56:08                 0  \n",
      "3       23:05:38                 0  \n",
      "4       19:43:09                 0  \n",
      "...          ...               ...  \n",
      "908843  19:18:57                 0  \n",
      "908844  11:54:36                 0  \n",
      "908845  13:18:56                 0  \n",
      "908846  16:11:44                 0  \n",
      "908847  22:30:00                 0  \n",
      "\n",
      "[908848 rows x 6 columns]\n"
     ]
    }
   ],
   "source": [
    "# Desanidar la columna \"date\"\n",
    "desanidados = []  # Lista vacía para almacenar los datos desanidados.\n",
    "\n",
    "for _, row in df_gral_tip.iterrows():\n",
    "    user_id = row['user_id']\n",
    "    business_id = row['business_id']\n",
    "    text = row['text']\n",
    "\n",
    "    for datetime_str in str(row['date']).split(', '):\n",
    "        datetime_parts = datetime_str.split(' ')\n",
    "        date = datetime_parts[0]\n",
    "        hour = datetime_parts[1] if len(datetime_parts) > 1 else None  # Usamos None si no hay hora disponible\n",
    "        complement_count = row['compliment_count']  # Puedes incluir otras columnas según sea necesario\n",
    "        desanidados.append([user_id, business_id, text, date, hour, complement_count])\n",
    "\n",
    "# Crear DataFrame desanidado\n",
    "df_desanidado = pd.DataFrame(desanidados, columns=['user_id', 'business_id', 'text', 'date', 'hour', 'compliment_count'])\n",
    "\n",
    "# Mostrar el DataFrame desanidado\n",
    "print(df_desanidado)"
   ]
  },
  {
   "cell_type": "code",
   "execution_count": 18,
   "metadata": {},
   "outputs": [
    {
     "data": {
      "text/html": [
       "<div>\n",
       "<style scoped>\n",
       "    .dataframe tbody tr th:only-of-type {\n",
       "        vertical-align: middle;\n",
       "    }\n",
       "\n",
       "    .dataframe tbody tr th {\n",
       "        vertical-align: top;\n",
       "    }\n",
       "\n",
       "    .dataframe thead th {\n",
       "        text-align: right;\n",
       "    }\n",
       "</style>\n",
       "<table border=\"1\" class=\"dataframe\">\n",
       "  <thead>\n",
       "    <tr style=\"text-align: right;\">\n",
       "      <th></th>\n",
       "      <th>user_id</th>\n",
       "      <th>business_id</th>\n",
       "      <th>text</th>\n",
       "      <th>date</th>\n",
       "      <th>hour</th>\n",
       "      <th>compliment_count</th>\n",
       "    </tr>\n",
       "  </thead>\n",
       "  <tbody>\n",
       "    <tr>\n",
       "      <th>0</th>\n",
       "      <td>AGNUgVwnZUey3gcPCJ76iw</td>\n",
       "      <td>3uLgwr0qeCNMjKenHJwPGQ</td>\n",
       "      <td>Avengers time with the ladies.</td>\n",
       "      <td>2012-05-18</td>\n",
       "      <td>02:17:21</td>\n",
       "      <td>0</td>\n",
       "    </tr>\n",
       "    <tr>\n",
       "      <th>1</th>\n",
       "      <td>NBN4MgHP9D3cw--SnauTkA</td>\n",
       "      <td>QoezRbYQncpRqyrLH6Iqjg</td>\n",
       "      <td>They have lots of good deserts and tasty cuban...</td>\n",
       "      <td>2013-02-05</td>\n",
       "      <td>18:35:10</td>\n",
       "      <td>0</td>\n",
       "    </tr>\n",
       "    <tr>\n",
       "      <th>2</th>\n",
       "      <td>-copOvldyKh1qr-vzkDEvw</td>\n",
       "      <td>MYoRNLb5chwjQe3c_k37Gg</td>\n",
       "      <td>It's open even when you think it isn't</td>\n",
       "      <td>2013-08-18</td>\n",
       "      <td>00:56:08</td>\n",
       "      <td>0</td>\n",
       "    </tr>\n",
       "    <tr>\n",
       "      <th>3</th>\n",
       "      <td>FjMQVZjSqY8syIO-53KFKw</td>\n",
       "      <td>hV-bABTK-glh5wj31ps_Jw</td>\n",
       "      <td>Very decent fried chicken</td>\n",
       "      <td>2017-06-27</td>\n",
       "      <td>23:05:38</td>\n",
       "      <td>0</td>\n",
       "    </tr>\n",
       "  </tbody>\n",
       "</table>\n",
       "</div>"
      ],
      "text/plain": [
       "                  user_id             business_id  \\\n",
       "0  AGNUgVwnZUey3gcPCJ76iw  3uLgwr0qeCNMjKenHJwPGQ   \n",
       "1  NBN4MgHP9D3cw--SnauTkA  QoezRbYQncpRqyrLH6Iqjg   \n",
       "2  -copOvldyKh1qr-vzkDEvw  MYoRNLb5chwjQe3c_k37Gg   \n",
       "3  FjMQVZjSqY8syIO-53KFKw  hV-bABTK-glh5wj31ps_Jw   \n",
       "\n",
       "                                                text        date      hour  \\\n",
       "0                     Avengers time with the ladies.  2012-05-18  02:17:21   \n",
       "1  They have lots of good deserts and tasty cuban...  2013-02-05  18:35:10   \n",
       "2             It's open even when you think it isn't  2013-08-18  00:56:08   \n",
       "3                          Very decent fried chicken  2017-06-27  23:05:38   \n",
       "\n",
       "   compliment_count  \n",
       "0                 0  \n",
       "1                 0  \n",
       "2                 0  \n",
       "3                 0  "
      ]
     },
     "execution_count": 18,
     "metadata": {},
     "output_type": "execute_result"
    }
   ],
   "source": [
    "df_desanidado.head(4)"
   ]
  },
  {
   "cell_type": "code",
   "execution_count": 19,
   "metadata": {},
   "outputs": [],
   "source": [
    "df_desanidado.to_parquet(\"c:\\\\Users\\\\Sofia\\\\Desktop\\\\Archivo desanidado\\\\Tip.parquet\", index=True)"
   ]
  }
 ],
 "metadata": {
  "kernelspec": {
   "display_name": "Python 3",
   "language": "python",
   "name": "python3"
  },
  "language_info": {
   "codemirror_mode": {
    "name": "ipython",
    "version": 3
   },
   "file_extension": ".py",
   "mimetype": "text/x-python",
   "name": "python",
   "nbconvert_exporter": "python",
   "pygments_lexer": "ipython3",
   "version": "3.12.1"
  }
 },
 "nbformat": 4,
 "nbformat_minor": 2
}
