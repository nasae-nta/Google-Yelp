{
 "cells": [
  {
   "cell_type": "markdown",
   "metadata": {},
   "source": [
    "## ETL BUSSINES"
   ]
  },
  {
   "cell_type": "markdown",
   "metadata": {},
   "source": [
    "### IMPORTACION LIBRERIAS"
   ]
  },
  {
   "cell_type": "code",
   "execution_count": 1,
   "metadata": {},
   "outputs": [],
   "source": [
    "import pandas as pd\n",
    "import matplotlib.pyplot as plt"
   ]
  },
  {
   "cell_type": "code",
   "execution_count": 2,
   "metadata": {},
   "outputs": [],
   "source": [
    "# Cargamos el dataset\n",
    "df_business = pd.read_parquet(r\"../../data/raw/yelp/business.parquet\")"
   ]
  },
  {
   "cell_type": "code",
   "execution_count": 3,
   "metadata": {},
   "outputs": [
    {
     "data": {
      "text/html": [
       "<div>\n",
       "<style scoped>\n",
       "    .dataframe tbody tr th:only-of-type {\n",
       "        vertical-align: middle;\n",
       "    }\n",
       "\n",
       "    .dataframe tbody tr th {\n",
       "        vertical-align: top;\n",
       "    }\n",
       "\n",
       "    .dataframe thead th {\n",
       "        text-align: right;\n",
       "    }\n",
       "</style>\n",
       "<table border=\"1\" class=\"dataframe\">\n",
       "  <thead>\n",
       "    <tr style=\"text-align: right;\">\n",
       "      <th></th>\n",
       "      <th>business_id</th>\n",
       "      <th>name</th>\n",
       "      <th>address</th>\n",
       "      <th>city</th>\n",
       "      <th>state</th>\n",
       "      <th>postal_code</th>\n",
       "      <th>latitude</th>\n",
       "      <th>longitude</th>\n",
       "      <th>stars</th>\n",
       "      <th>review_count</th>\n",
       "      <th>is_open</th>\n",
       "      <th>attributes</th>\n",
       "      <th>categories</th>\n",
       "      <th>hours</th>\n",
       "    </tr>\n",
       "  </thead>\n",
       "  <tbody>\n",
       "    <tr>\n",
       "      <th>0</th>\n",
       "      <td>Pns2l4eNsfO8kk83dixA6A</td>\n",
       "      <td>Abby Rappoport, LAC, CMQ</td>\n",
       "      <td>1616 Chapala St, Ste 2</td>\n",
       "      <td>Santa Barbara</td>\n",
       "      <td>None</td>\n",
       "      <td>93101</td>\n",
       "      <td>34.426679</td>\n",
       "      <td>-119.711197</td>\n",
       "      <td>5.0</td>\n",
       "      <td>7</td>\n",
       "      <td>0</td>\n",
       "      <td>{'AcceptsInsurance': None, 'AgesAllowed': None...</td>\n",
       "      <td>Doctors, Traditional Chinese Medicine, Naturop...</td>\n",
       "      <td>None</td>\n",
       "    </tr>\n",
       "    <tr>\n",
       "      <th>1</th>\n",
       "      <td>mpf3x-BjTdTEA3yCZrAYPw</td>\n",
       "      <td>The UPS Store</td>\n",
       "      <td>87 Grasso Plaza Shopping Center</td>\n",
       "      <td>Affton</td>\n",
       "      <td>None</td>\n",
       "      <td>63123</td>\n",
       "      <td>38.551126</td>\n",
       "      <td>-90.335695</td>\n",
       "      <td>3.0</td>\n",
       "      <td>15</td>\n",
       "      <td>1</td>\n",
       "      <td>{'AcceptsInsurance': None, 'AgesAllowed': None...</td>\n",
       "      <td>Shipping Centers, Local Services, Notaries, Ma...</td>\n",
       "      <td>{'Friday': '8:0-18:30', 'Monday': '0:0-0:0', '...</td>\n",
       "    </tr>\n",
       "    <tr>\n",
       "      <th>2</th>\n",
       "      <td>tUFrWirKiKi_TAnsVWINQQ</td>\n",
       "      <td>Target</td>\n",
       "      <td>5255 E Broadway Blvd</td>\n",
       "      <td>Tucson</td>\n",
       "      <td>None</td>\n",
       "      <td>85711</td>\n",
       "      <td>32.223236</td>\n",
       "      <td>-110.880452</td>\n",
       "      <td>3.5</td>\n",
       "      <td>22</td>\n",
       "      <td>0</td>\n",
       "      <td>{'AcceptsInsurance': None, 'AgesAllowed': None...</td>\n",
       "      <td>Department Stores, Shopping, Fashion, Home &amp; G...</td>\n",
       "      <td>{'Friday': '8:0-23:0', 'Monday': '8:0-22:0', '...</td>\n",
       "    </tr>\n",
       "    <tr>\n",
       "      <th>3</th>\n",
       "      <td>MTSW4McQd7CbVtyjqoe9mw</td>\n",
       "      <td>St Honore Pastries</td>\n",
       "      <td>935 Race St</td>\n",
       "      <td>Philadelphia</td>\n",
       "      <td>CA</td>\n",
       "      <td>19107</td>\n",
       "      <td>39.955505</td>\n",
       "      <td>-75.155564</td>\n",
       "      <td>4.0</td>\n",
       "      <td>80</td>\n",
       "      <td>1</td>\n",
       "      <td>{'AcceptsInsurance': None, 'AgesAllowed': None...</td>\n",
       "      <td>Restaurants, Food, Bubble Tea, Coffee &amp; Tea, B...</td>\n",
       "      <td>{'Friday': '7:0-21:0', 'Monday': '7:0-20:0', '...</td>\n",
       "    </tr>\n",
       "    <tr>\n",
       "      <th>4</th>\n",
       "      <td>mWMc6_wTdE0EUBKIGXDVfA</td>\n",
       "      <td>Perkiomen Valley Brewery</td>\n",
       "      <td>101 Walnut St</td>\n",
       "      <td>Green Lane</td>\n",
       "      <td>MO</td>\n",
       "      <td>18054</td>\n",
       "      <td>40.338183</td>\n",
       "      <td>-75.471659</td>\n",
       "      <td>4.5</td>\n",
       "      <td>13</td>\n",
       "      <td>1</td>\n",
       "      <td>{'AcceptsInsurance': None, 'AgesAllowed': None...</td>\n",
       "      <td>Brewpubs, Breweries, Food</td>\n",
       "      <td>{'Friday': '12:0-22:0', 'Monday': None, 'Satur...</td>\n",
       "    </tr>\n",
       "  </tbody>\n",
       "</table>\n",
       "</div>"
      ],
      "text/plain": [
       "              business_id                      name  \\\n",
       "0  Pns2l4eNsfO8kk83dixA6A  Abby Rappoport, LAC, CMQ   \n",
       "1  mpf3x-BjTdTEA3yCZrAYPw             The UPS Store   \n",
       "2  tUFrWirKiKi_TAnsVWINQQ                    Target   \n",
       "3  MTSW4McQd7CbVtyjqoe9mw        St Honore Pastries   \n",
       "4  mWMc6_wTdE0EUBKIGXDVfA  Perkiomen Valley Brewery   \n",
       "\n",
       "                           address           city state postal_code  \\\n",
       "0           1616 Chapala St, Ste 2  Santa Barbara  None       93101   \n",
       "1  87 Grasso Plaza Shopping Center         Affton  None       63123   \n",
       "2             5255 E Broadway Blvd         Tucson  None       85711   \n",
       "3                      935 Race St   Philadelphia    CA       19107   \n",
       "4                    101 Walnut St     Green Lane    MO       18054   \n",
       "\n",
       "    latitude   longitude  stars  review_count  is_open  \\\n",
       "0  34.426679 -119.711197    5.0             7        0   \n",
       "1  38.551126  -90.335695    3.0            15        1   \n",
       "2  32.223236 -110.880452    3.5            22        0   \n",
       "3  39.955505  -75.155564    4.0            80        1   \n",
       "4  40.338183  -75.471659    4.5            13        1   \n",
       "\n",
       "                                          attributes  \\\n",
       "0  {'AcceptsInsurance': None, 'AgesAllowed': None...   \n",
       "1  {'AcceptsInsurance': None, 'AgesAllowed': None...   \n",
       "2  {'AcceptsInsurance': None, 'AgesAllowed': None...   \n",
       "3  {'AcceptsInsurance': None, 'AgesAllowed': None...   \n",
       "4  {'AcceptsInsurance': None, 'AgesAllowed': None...   \n",
       "\n",
       "                                          categories  \\\n",
       "0  Doctors, Traditional Chinese Medicine, Naturop...   \n",
       "1  Shipping Centers, Local Services, Notaries, Ma...   \n",
       "2  Department Stores, Shopping, Fashion, Home & G...   \n",
       "3  Restaurants, Food, Bubble Tea, Coffee & Tea, B...   \n",
       "4                          Brewpubs, Breweries, Food   \n",
       "\n",
       "                                               hours  \n",
       "0                                               None  \n",
       "1  {'Friday': '8:0-18:30', 'Monday': '0:0-0:0', '...  \n",
       "2  {'Friday': '8:0-23:0', 'Monday': '8:0-22:0', '...  \n",
       "3  {'Friday': '7:0-21:0', 'Monday': '7:0-20:0', '...  \n",
       "4  {'Friday': '12:0-22:0', 'Monday': None, 'Satur...  "
      ]
     },
     "execution_count": 3,
     "metadata": {},
     "output_type": "execute_result"
    }
   ],
   "source": [
    "df_business.head()"
   ]
  },
  {
   "cell_type": "code",
   "execution_count": 4,
   "metadata": {},
   "outputs": [
    {
     "name": "stdout",
     "output_type": "stream",
     "text": [
      "<class 'pandas.core.frame.DataFrame'>\n",
      "RangeIndex: 150346 entries, 0 to 150345\n",
      "Data columns (total 14 columns):\n",
      " #   Column        Non-Null Count   Dtype  \n",
      "---  ------        --------------   -----  \n",
      " 0   business_id   150346 non-null  object \n",
      " 1   name          150346 non-null  object \n",
      " 2   address       150346 non-null  object \n",
      " 3   city          150346 non-null  object \n",
      " 4   state         150343 non-null  object \n",
      " 5   postal_code   150346 non-null  object \n",
      " 6   latitude      150346 non-null  float64\n",
      " 7   longitude     150346 non-null  float64\n",
      " 8   stars         150346 non-null  float64\n",
      " 9   review_count  150346 non-null  int64  \n",
      " 10  is_open       150346 non-null  int64  \n",
      " 11  attributes    136602 non-null  object \n",
      " 12  categories    150243 non-null  object \n",
      " 13  hours         127123 non-null  object \n",
      "dtypes: float64(3), int64(2), object(9)\n",
      "memory usage: 16.1+ MB\n"
     ]
    }
   ],
   "source": [
    "df_business.info()"
   ]
  },
  {
   "cell_type": "markdown",
   "metadata": {},
   "source": [
    "#### Se borran las columnas con datos innecesarios para el proyecto"
   ]
  },
  {
   "cell_type": "code",
   "execution_count": 5,
   "metadata": {},
   "outputs": [],
   "source": [
    "columns_to_drop = [\"postal_code\", \"is_open\",\"latitude\",\"longitude\", \"attributes\",\"hours\"]\n",
    "df_limpio_bussines = df_business.drop(columns= columns_to_drop)"
   ]
  },
  {
   "cell_type": "code",
   "execution_count": 6,
   "metadata": {},
   "outputs": [
    {
     "name": "stdout",
     "output_type": "stream",
     "text": [
      "<class 'pandas.core.frame.DataFrame'>\n",
      "RangeIndex: 150346 entries, 0 to 150345\n",
      "Data columns (total 8 columns):\n",
      " #   Column        Non-Null Count   Dtype  \n",
      "---  ------        --------------   -----  \n",
      " 0   business_id   150346 non-null  object \n",
      " 1   name          150346 non-null  object \n",
      " 2   address       150346 non-null  object \n",
      " 3   city          150346 non-null  object \n",
      " 4   state         150343 non-null  object \n",
      " 5   stars         150346 non-null  float64\n",
      " 6   review_count  150346 non-null  int64  \n",
      " 7   categories    150243 non-null  object \n",
      "dtypes: float64(1), int64(1), object(6)\n",
      "memory usage: 9.2+ MB\n"
     ]
    }
   ],
   "source": [
    "df_limpio_bussines.info()"
   ]
  },
  {
   "cell_type": "code",
   "execution_count": 7,
   "metadata": {},
   "outputs": [
    {
     "data": {
      "text/html": [
       "<div>\n",
       "<style scoped>\n",
       "    .dataframe tbody tr th:only-of-type {\n",
       "        vertical-align: middle;\n",
       "    }\n",
       "\n",
       "    .dataframe tbody tr th {\n",
       "        vertical-align: top;\n",
       "    }\n",
       "\n",
       "    .dataframe thead th {\n",
       "        text-align: right;\n",
       "    }\n",
       "</style>\n",
       "<table border=\"1\" class=\"dataframe\">\n",
       "  <thead>\n",
       "    <tr style=\"text-align: right;\">\n",
       "      <th></th>\n",
       "      <th>business_id</th>\n",
       "      <th>name</th>\n",
       "      <th>address</th>\n",
       "      <th>city</th>\n",
       "      <th>state</th>\n",
       "      <th>stars</th>\n",
       "      <th>review_count</th>\n",
       "      <th>categories</th>\n",
       "    </tr>\n",
       "  </thead>\n",
       "  <tbody>\n",
       "    <tr>\n",
       "      <th>0</th>\n",
       "      <td>Pns2l4eNsfO8kk83dixA6A</td>\n",
       "      <td>Abby Rappoport, LAC, CMQ</td>\n",
       "      <td>1616 Chapala St, Ste 2</td>\n",
       "      <td>Santa Barbara</td>\n",
       "      <td>None</td>\n",
       "      <td>5.0</td>\n",
       "      <td>7</td>\n",
       "      <td>Doctors, Traditional Chinese Medicine, Naturop...</td>\n",
       "    </tr>\n",
       "    <tr>\n",
       "      <th>1</th>\n",
       "      <td>mpf3x-BjTdTEA3yCZrAYPw</td>\n",
       "      <td>The UPS Store</td>\n",
       "      <td>87 Grasso Plaza Shopping Center</td>\n",
       "      <td>Affton</td>\n",
       "      <td>None</td>\n",
       "      <td>3.0</td>\n",
       "      <td>15</td>\n",
       "      <td>Shipping Centers, Local Services, Notaries, Ma...</td>\n",
       "    </tr>\n",
       "    <tr>\n",
       "      <th>2</th>\n",
       "      <td>tUFrWirKiKi_TAnsVWINQQ</td>\n",
       "      <td>Target</td>\n",
       "      <td>5255 E Broadway Blvd</td>\n",
       "      <td>Tucson</td>\n",
       "      <td>None</td>\n",
       "      <td>3.5</td>\n",
       "      <td>22</td>\n",
       "      <td>Department Stores, Shopping, Fashion, Home &amp; G...</td>\n",
       "    </tr>\n",
       "    <tr>\n",
       "      <th>3</th>\n",
       "      <td>MTSW4McQd7CbVtyjqoe9mw</td>\n",
       "      <td>St Honore Pastries</td>\n",
       "      <td>935 Race St</td>\n",
       "      <td>Philadelphia</td>\n",
       "      <td>CA</td>\n",
       "      <td>4.0</td>\n",
       "      <td>80</td>\n",
       "      <td>Restaurants, Food, Bubble Tea, Coffee &amp; Tea, B...</td>\n",
       "    </tr>\n",
       "    <tr>\n",
       "      <th>4</th>\n",
       "      <td>mWMc6_wTdE0EUBKIGXDVfA</td>\n",
       "      <td>Perkiomen Valley Brewery</td>\n",
       "      <td>101 Walnut St</td>\n",
       "      <td>Green Lane</td>\n",
       "      <td>MO</td>\n",
       "      <td>4.5</td>\n",
       "      <td>13</td>\n",
       "      <td>Brewpubs, Breweries, Food</td>\n",
       "    </tr>\n",
       "    <tr>\n",
       "      <th>...</th>\n",
       "      <td>...</td>\n",
       "      <td>...</td>\n",
       "      <td>...</td>\n",
       "      <td>...</td>\n",
       "      <td>...</td>\n",
       "      <td>...</td>\n",
       "      <td>...</td>\n",
       "      <td>...</td>\n",
       "    </tr>\n",
       "    <tr>\n",
       "      <th>150341</th>\n",
       "      <td>IUQopTMmYQG-qRtBk-8QnA</td>\n",
       "      <td>Binh's Nails</td>\n",
       "      <td>3388 Gateway Blvd</td>\n",
       "      <td>Edmonton</td>\n",
       "      <td>IN</td>\n",
       "      <td>3.0</td>\n",
       "      <td>13</td>\n",
       "      <td>Nail Salons, Beauty &amp; Spas</td>\n",
       "    </tr>\n",
       "    <tr>\n",
       "      <th>150342</th>\n",
       "      <td>c8GjPIOTGVmIemT7j5_SyQ</td>\n",
       "      <td>Wild Birds Unlimited</td>\n",
       "      <td>2813 Bransford Ave</td>\n",
       "      <td>Nashville</td>\n",
       "      <td>DE</td>\n",
       "      <td>4.0</td>\n",
       "      <td>5</td>\n",
       "      <td>Pets, Nurseries &amp; Gardening, Pet Stores, Hobby...</td>\n",
       "    </tr>\n",
       "    <tr>\n",
       "      <th>150343</th>\n",
       "      <td>_QAMST-NrQobXduilWEqSw</td>\n",
       "      <td>Claire's Boutique</td>\n",
       "      <td>6020 E 82nd St, Ste 46</td>\n",
       "      <td>Indianapolis</td>\n",
       "      <td>AB</td>\n",
       "      <td>3.5</td>\n",
       "      <td>8</td>\n",
       "      <td>Shopping, Jewelry, Piercing, Toy Stores, Beaut...</td>\n",
       "    </tr>\n",
       "    <tr>\n",
       "      <th>150344</th>\n",
       "      <td>mtGm22y5c2UHNXDFAjaPNw</td>\n",
       "      <td>Cyclery &amp; Fitness Center</td>\n",
       "      <td>2472 Troy Rd</td>\n",
       "      <td>Edwardsville</td>\n",
       "      <td>AB</td>\n",
       "      <td>4.0</td>\n",
       "      <td>24</td>\n",
       "      <td>Fitness/Exercise Equipment, Eyewear &amp; Optician...</td>\n",
       "    </tr>\n",
       "    <tr>\n",
       "      <th>150345</th>\n",
       "      <td>jV_XOycEzSlTx-65W906pg</td>\n",
       "      <td>Sic Ink</td>\n",
       "      <td>238 Apollo Beach Blvd</td>\n",
       "      <td>Apollo beach</td>\n",
       "      <td>TN</td>\n",
       "      <td>4.5</td>\n",
       "      <td>9</td>\n",
       "      <td>Beauty &amp; Spas, Permanent Makeup, Piercing, Tattoo</td>\n",
       "    </tr>\n",
       "  </tbody>\n",
       "</table>\n",
       "<p>150346 rows × 8 columns</p>\n",
       "</div>"
      ],
      "text/plain": [
       "                   business_id                      name  \\\n",
       "0       Pns2l4eNsfO8kk83dixA6A  Abby Rappoport, LAC, CMQ   \n",
       "1       mpf3x-BjTdTEA3yCZrAYPw             The UPS Store   \n",
       "2       tUFrWirKiKi_TAnsVWINQQ                    Target   \n",
       "3       MTSW4McQd7CbVtyjqoe9mw        St Honore Pastries   \n",
       "4       mWMc6_wTdE0EUBKIGXDVfA  Perkiomen Valley Brewery   \n",
       "...                        ...                       ...   \n",
       "150341  IUQopTMmYQG-qRtBk-8QnA              Binh's Nails   \n",
       "150342  c8GjPIOTGVmIemT7j5_SyQ      Wild Birds Unlimited   \n",
       "150343  _QAMST-NrQobXduilWEqSw         Claire's Boutique   \n",
       "150344  mtGm22y5c2UHNXDFAjaPNw  Cyclery & Fitness Center   \n",
       "150345  jV_XOycEzSlTx-65W906pg                   Sic Ink   \n",
       "\n",
       "                                address           city state  stars  \\\n",
       "0                1616 Chapala St, Ste 2  Santa Barbara  None    5.0   \n",
       "1       87 Grasso Plaza Shopping Center         Affton  None    3.0   \n",
       "2                  5255 E Broadway Blvd         Tucson  None    3.5   \n",
       "3                           935 Race St   Philadelphia    CA    4.0   \n",
       "4                         101 Walnut St     Green Lane    MO    4.5   \n",
       "...                                 ...            ...   ...    ...   \n",
       "150341                3388 Gateway Blvd       Edmonton    IN    3.0   \n",
       "150342               2813 Bransford Ave      Nashville    DE    4.0   \n",
       "150343           6020 E 82nd St, Ste 46   Indianapolis    AB    3.5   \n",
       "150344                     2472 Troy Rd   Edwardsville    AB    4.0   \n",
       "150345            238 Apollo Beach Blvd   Apollo beach    TN    4.5   \n",
       "\n",
       "        review_count                                         categories  \n",
       "0                  7  Doctors, Traditional Chinese Medicine, Naturop...  \n",
       "1                 15  Shipping Centers, Local Services, Notaries, Ma...  \n",
       "2                 22  Department Stores, Shopping, Fashion, Home & G...  \n",
       "3                 80  Restaurants, Food, Bubble Tea, Coffee & Tea, B...  \n",
       "4                 13                          Brewpubs, Breweries, Food  \n",
       "...              ...                                                ...  \n",
       "150341            13                         Nail Salons, Beauty & Spas  \n",
       "150342             5  Pets, Nurseries & Gardening, Pet Stores, Hobby...  \n",
       "150343             8  Shopping, Jewelry, Piercing, Toy Stores, Beaut...  \n",
       "150344            24  Fitness/Exercise Equipment, Eyewear & Optician...  \n",
       "150345             9  Beauty & Spas, Permanent Makeup, Piercing, Tattoo  \n",
       "\n",
       "[150346 rows x 8 columns]"
      ]
     },
     "execution_count": 7,
     "metadata": {},
     "output_type": "execute_result"
    }
   ],
   "source": [
    "df_limpio_bussines"
   ]
  },
  {
   "cell_type": "markdown",
   "metadata": {},
   "source": [
    "#### se cambian los valores nulos de la columna \"state\" y se borran las filas que contengan datos nulos en la columna \"categories\""
   ]
  },
  {
   "cell_type": "code",
   "execution_count": 11,
   "metadata": {},
   "outputs": [
    {
     "name": "stdout",
     "output_type": "stream",
     "text": [
      "business_id       0\n",
      "name              0\n",
      "address           0\n",
      "city              0\n",
      "state             3\n",
      "latitude          0\n",
      "longitude         0\n",
      "stars             0\n",
      "review_count      0\n",
      "categories      103\n",
      "dtype: int64\n"
     ]
    }
   ],
   "source": [
    "null_counts = df_limpio_bussines.isnull().sum() \n",
    "print(null_counts)"
   ]
  },
  {
   "cell_type": "code",
   "execution_count": 8,
   "metadata": {},
   "outputs": [
    {
     "name": "stderr",
     "output_type": "stream",
     "text": [
      "C:\\Users\\ElRonconZzZ\\AppData\\Local\\Temp\\ipykernel_24804\\18252930.py:2: FutureWarning: A value is trying to be set on a copy of a DataFrame or Series through chained assignment using an inplace method.\n",
      "The behavior will change in pandas 3.0. This inplace method will never work because the intermediate object on which we are setting values always behaves as a copy.\n",
      "\n",
      "For example, when doing 'df[col].method(value, inplace=True)', try using 'df.method({col: value}, inplace=True)' or df[col] = df[col].method(value) instead, to perform the operation inplace on the original object.\n",
      "\n",
      "\n",
      "  df_limpio_bussines[\"state\"].fillna(\"Desconocido\", inplace= True)\n"
     ]
    }
   ],
   "source": [
    "#los valores nulos encontrados en \"state\" se cambiaran por \"desconocido\"\n",
    "df_limpio_bussines[\"state\"].fillna(\"Desconocido\", inplace= True)\n",
    "\n",
    "#se borran las filas que contengan datos nulos en la columna \"categories\"\n",
    "df_limpio_bussines.dropna(subset=[\"categories\"], inplace=True)\n",
    "\n"
   ]
  },
  {
   "cell_type": "code",
   "execution_count": 13,
   "metadata": {},
   "outputs": [
    {
     "name": "stdout",
     "output_type": "stream",
     "text": [
      "business_id     0\n",
      "name            0\n",
      "address         0\n",
      "city            0\n",
      "state           0\n",
      "latitude        0\n",
      "longitude       0\n",
      "stars           0\n",
      "review_count    0\n",
      "categories      0\n",
      "dtype: int64\n"
     ]
    }
   ],
   "source": [
    "print(df_limpio_bussines.isnull().sum())"
   ]
  },
  {
   "cell_type": "code",
   "execution_count": 11,
   "metadata": {},
   "outputs": [
    {
     "name": "stdout",
     "output_type": "stream",
     "text": [
      "                   business_id                                 name  \\\n",
      "188     QjV4v7q_pt7tt3K1US7IHg                   PDQ Temple Terrace   \n",
      "387     sUQ-OfJYSNfz-cimEjoaXQ                      Soho Oasis Cafe   \n",
      "394     z9wCTHYI2VZy9YIblwSsgg        The Silo Eatery Coffee Bakery   \n",
      "1000    rBE5TT_ndOOczNBrbRnJwA              Dio Modern Mediteranean   \n",
      "1306    3WfH4I8OmHMjTIFhPgh4Tw                     Sweeties By Mili   \n",
      "...                        ...                                  ...   \n",
      "149077  OVMQ5w9Qw96OfZ0e5nZtVA           Pure Kitchen Organic Vegan   \n",
      "149147  8E2--KcyOrJx8my51jid2w  Jet City Espresso -Seminole Heights   \n",
      "149784  1BCwcqr72fBcwPCWVQC1ag                    Papa John's Pizza   \n",
      "150087  hezQG50YXqdgxkhl2R9OuQ                            Taco Bell   \n",
      "150122  MRGIaZmmpY38WbhVq29qZA                             El Patio   \n",
      "\n",
      "                                       address   city state  stars  \\\n",
      "188                          5112 E Fowler Ave  Tampa    FL    3.0   \n",
      "387                           410 S Howard Ave  Tampa    FL    3.5   \n",
      "394                 9036 Brittany Way, Bldg 18  Tampa    FL    4.0   \n",
      "1000                         519 N Franklin St  Tampa    FL    4.0   \n",
      "1306                          11961 Sheldon Rd  Tampa    FL    3.5   \n",
      "...                                        ...    ...   ...    ...   \n",
      "149077                     3214 W Kennedy Blvd  Tampa    FL    5.0   \n",
      "149147                      5803 N Florida Ave  Tampa    FL    4.5   \n",
      "149784  17631 Bruce B Downs Boulevard, Suite C  Tampa    FL    4.0   \n",
      "150087           7620 West Hillsborough Avenue  Tampa    FL    1.5   \n",
      "150122                         5425 Sheldon Rd  Tampa    FL    3.0   \n",
      "\n",
      "        review_count                                         categories  \n",
      "188                5   Fast Food, Sandwiches, Chicken Shop, Restaurants  \n",
      "387                7                        Restaurants, Middle Eastern  \n",
      "394                5   Coffee & Tea, Restaurants, Food, Cafes, Bakeries  \n",
      "1000             325                  Greek, Restaurants, Mediterranean  \n",
      "1306              16                                     Bakeries, Food  \n",
      "...              ...                                                ...  \n",
      "149077           130  Vegetarian, Juice Bars & Smoothies, Organic St...  \n",
      "149147           217  Salad, Restaurants, Sandwiches, Coffee & Tea, ...  \n",
      "149784            12                                 Restaurants, Pizza  \n",
      "150087            30  Fast Food, Restaurants, Breakfast & Brunch, Ta...  \n",
      "150122             6       Restaurants, Food Stands, Spanish, Caribbean  \n",
      "\n",
      "[733 rows x 8 columns]\n"
     ]
    }
   ],
   "source": [
    "\n",
    "\n",
    "# Define la lista de ciudades de Florida\n",
    "florida_cities = [\"Miami\", \"Orlando\", \"Tampa\", \"Jacksonville\", \"Tallahassee\", \"Fort Lauderdale\", \"Hialeah\", \"Sarasota\", \"West Palm Beach\"]\n",
    "\n",
    "# Filtra las filas donde \"city\" esté en la lista de ciudades de Florida\n",
    "df_limpio_bussines = df_limpio_bussines[df_limpio_bussines[\"city\"].isin(florida_cities)]\n",
    "\n",
    "# Luego, filtra las filas donde \"categories\" contenga alguna de las palabras indicadas\n",
    "categories_to_include = [\"Restaurants\", \"Food\", \"Coffee\", \"Cafes\", \"Fast Food\", \"Bar\", \"Pub\", \"Salad\"]\n",
    "df_limpio_bussines_new = df_limpio_bussines[df_limpio_bussines[\"categories\"].str.contains('|'.join(categories_to_include), case=False, na=False)]\n",
    "\n",
    "# Muestra el DataFrame filtrado\n",
    "print(df_limpio_bussines_new)\n",
    "\n"
   ]
  },
  {
   "cell_type": "markdown",
   "metadata": {},
   "source": [
    "#### Escogimos una de los estados con mas datos FLORIDA y su ciudad TAMPA"
   ]
  },
  {
   "cell_type": "markdown",
   "metadata": {},
   "source": [
    "## EDA BUSSINES"
   ]
  },
  {
   "cell_type": "markdown",
   "metadata": {},
   "source": [
    "#### Vemos la distribucion de las estrellas"
   ]
  },
  {
   "cell_type": "code",
   "execution_count": 16,
   "metadata": {},
   "outputs": [
    {
     "data": {
      "image/png": "[encoded data removed]",
      "text/plain": [
       "<Figure size 640x480 with 1 Axes>"
      ]
     },
     "metadata": {},
     "output_type": "display_data"
    }
   ],
   "source": [
    "#Create qualifications histogram:\n",
    "plt.hist(df_limpio_bussines_new[\"stars\"], bins = 9, edgecolor = \"black\", density=True) \n",
    "\n",
    "#Configurate label and title:\n",
    "plt.xlabel(\"Qualifications (stars)\")\n",
    "plt.ylabel(\"Businesses Numbers\")\n",
    "plt.title(\"Qualification Distributions\")\n",
    "\n",
    "#Print the Histogram:\n",
    "plt.show()"
   ]
  },
  {
   "cell_type": "markdown",
   "metadata": {},
   "source": [
    "#### vemos el top 10 de las categorias mas usadas"
   ]
  },
  {
   "cell_type": "code",
   "execution_count": 17,
   "metadata": {},
   "outputs": [
    {
     "data": {
      "image/png": "[encoded data removed]",
      "text/plain": [
       "<Figure size 1000x600 with 1 Axes>"
      ]
     },
     "metadata": {},
     "output_type": "display_data"
    }
   ],
   "source": [
    "#Get a list of all categories present in the DataFrame:\n",
    "all_categories = df_limpio_bussines_new[\"categories\"].str.split(\", \", expand = True).stack()\n",
    "\n",
    "#Count the frequency of each category\n",
    "category_counts = all_categories.value_counts()\n",
    "\n",
    "#Select the 10 most common categories\n",
    "top_categories = category_counts.head(10)\n",
    "\n",
    "#Create a bar chart of the most common categories\n",
    "plt.figure(figsize=(10, 6))\n",
    "top_categories.plot(kind=\"bar\", color=\"blue\")\n",
    "plt.xlabel(\"categories\")\n",
    "plt.ylabel(\"Businesses Numbers\")\n",
    "plt.title(\"Top 10 more comun categories Businesses\")\n",
    "plt.xticks(rotation=45, ha=\"right\")\n",
    "plt.tight_layout()\n",
    "plt.show()"
   ]
  },
  {
   "cell_type": "markdown",
   "metadata": {},
   "source": [
    "#### Analizamos outliers"
   ]
  },
  {
   "cell_type": "code",
   "execution_count": 18,
   "metadata": {},
   "outputs": [
    {
     "data": {
      "image/png": "[encoded data removed]",
      "text/plain": [
       "<Figure size 800x600 with 1 Axes>"
      ]
     },
     "metadata": {},
     "output_type": "display_data"
    }
   ],
   "source": [
    "df_limpio_bussines_new\n",
    "\n",
    "#Calculate the GPA\n",
    "average_rating = df_limpio_bussines_new['stars'].mean()\n",
    "\n",
    "#Calculate the standard deviation of grades\n",
    "std_deviation = df_limpio_bussines_new['stars'].std()\n",
    "\n",
    "#Identify outliers (for example, more than 2 standard deviations)\n",
    "outliers = df_limpio_bussines_new[(df_limpio_bussines_new['stars'] > average_rating + 2 * std_deviation) |\n",
    "                      (df_limpio_bussines_new['stars'] < average_rating - 2 * std_deviation)]\n",
    "\n",
    "#Visualize outliers in a boxplot\n",
    "plt.figure(figsize=(8, 6))\n",
    "plt.boxplot(df_limpio_bussines_new['stars'])\n",
    "plt.title('Grades Boxplot')\n",
    "plt.ylabel('Qualification')\n",
    "plt.show()"
   ]
  },
  {
   "cell_type": "code",
   "execution_count": 19,
   "metadata": {},
   "outputs": [],
   "source": [
    "#Guardar el DataFrame como un archivo Parquet\n",
    "ruta_archivo = '../../data/raw/yelp/bussines_processed.parquet'\n",
    "df_limpio_bussines_new.to_parquet(ruta_archivo,index=False)"
   ]
  }
 ],
 "metadata": {
  "kernelspec": {
   "display_name": "Python 3",
   "language": "python",
   "name": "python3"
  },
  "language_info": {
   "codemirror_mode": {
    "name": "ipython",
    "version": 3
   },
   "file_extension": ".py",
   "mimetype": "text/x-python",
   "name": "python",
   "nbconvert_exporter": "python",
   "pygments_lexer": "ipython3",
   "version": "3.12.7"
  }
 },
 "nbformat": 4,
 "nbformat_minor": 2
}
