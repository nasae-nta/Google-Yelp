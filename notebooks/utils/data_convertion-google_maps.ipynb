{
 "cells": [
  {
   "cell_type": "markdown",
   "metadata": {},
   "source": [
    "# Data Convertion"
   ]
  },
  {
   "cell_type": "markdown",
   "metadata": {},
   "source": [
    "En este archivo se realiza una conversión de datos de JSON a Parquet para optimizar la subida de los datos que, en algunos casos pesan demasiado y generarán conflicto a la hora de subirlos a GitHub y dificultarán el procesamiento de los colaboradores.\n",
    "\n",
    "**Nota:** Este archivo sólo realiza conversión y adaptación de los datos al entorno de trabajo. Si se desea acceder a los DataSets originales empleados para este proyecto, podrán encontrarlos en el siguiente link: [Dataset de Google Maps](https://drive.google.com/drive/folders/1Wf7YkxA0aHI3GpoHc9Nh8_scf5BbD4DA). No olvidar que por el momento sólo se está trabajando con los estados de California, Nueva York y Florida."
   ]
  },
  {
   "cell_type": "code",
   "execution_count": 2,
   "metadata": {},
   "outputs": [],
   "source": [
    "# Se importan las librerías necesarias\n",
    "import pandas as pd\n",
    "import os\n",
    "import sys"
   ]
  },
  {
   "cell_type": "markdown",
   "metadata": {},
   "source": [
    "## Importar los DataSets de Google Maps"
   ]
  },
  {
   "cell_type": "code",
   "execution_count": 3,
   "metadata": {},
   "outputs": [],
   "source": [
    "# Obtener el directorio de trabajo actual\n",
    "current_dir = os.getcwd()\n",
    "\n",
    "# Navegar hacia el directorio raíz del proyecto\n",
    "project_root = os.path.abspath(os.path.join(current_dir, '../..'))\n",
    "\n",
    "# Agregar la ruta del proyecto al sys.path\n",
    "sys.path.append(project_root)"
   ]
  },
  {
   "cell_type": "markdown",
   "metadata": {},
   "source": [
    "### Funciones auxiliares"
   ]
  },
  {
   "cell_type": "code",
   "execution_count": 4,
   "metadata": {},
   "outputs": [],
   "source": [
    "# se crea una función para leer todos los elementos de una carpeta\n",
    "def json_files(folder_path):\n",
    "    \"\"\" \n",
    "    Esta función recibe la ruta del directorio donde se encuentran los archivos JSON.\n",
    "    La ruta debe ingresarse desde el directorio raíz del proyecto.\n",
    "    Retorna una lista con todos los elementos en el directorio. \n",
    "    \"\"\"\n",
    "    # se crea una ruta completa a la ubicación de los archivos\n",
    "    path = os.path.join(project_root, folder_path)\n",
    "    # Se crea una lista que contendrá todos los archivos JSON\n",
    "    json_files = []\n",
    "\n",
    "    # Recorre todas las carpetas y archivos en el directorio\n",
    "    for dirpath, _, filenames in os.walk(path):\n",
    "        for file in filenames:\n",
    "            if file.endswith('.json'):\n",
    "                file_path = os.path.join(dirpath, file)\n",
    "                \n",
    "                # Intenta leer el archivo JSON y añade el DataFrame a la lista\n",
    "                try:\n",
    "                    print(f\"Leyendo archivo: {file_path}\")\n",
    "                    df = pd.read_json(file_path, lines=True)\n",
    "                    json_files.append(df)\n",
    "                    print(f\"Archivo {file} leído exitosamente con {len(df)} registros.\")\n",
    "                except Exception as e:\n",
    "                    try:\n",
    "                        print(f\"Leyendo archivo: {file_path}\")\n",
    "                        df = pd.read_json(file_path)\n",
    "                        json_files.append(df)\n",
    "                        print(f\"Archivo {file} leído exitosamente con {len(df)} registros.\")\n",
    "                    except Exception as e:\n",
    "                        print(f\"Error al leer {file_path}: {e}\")\n",
    "\n",
    "    # retorna la lista\n",
    "    return json_files"
   ]
  },
  {
   "cell_type": "code",
   "execution_count": 5,
   "metadata": {},
   "outputs": [],
   "source": [
    "# Se define una función para exportar los elementos\n",
    "def export_parquet(dfs, folder_path):\n",
    "    \"\"\"\n",
    "    Exporta cada DataFrame en la lista de dataframes al formato Parquet en la carpeta especificada.\n",
    "    \n",
    "    Parameters:\n",
    "    - dfs (list): Lista de DataFrames a exportar.\n",
    "    - output_folder (str): Ruta de la carpeta donde se guardarán los archivos Parquet.\n",
    "    \n",
    "    Cada archivo Parquet se nombrará como `archivo_X.parquet`, donde `X` es un índice único para cada archivo.\n",
    "    \"\"\"\n",
    "    # se crea una ruta completa a la ubicación de los archivos\n",
    "    output_folder = os.path.join(project_root, folder_path)\n",
    "\n",
    "    # Exportar cada DataFrame a un archivo Parquet\n",
    "    for i, df in enumerate(dfs):\n",
    "        output_path = os.path.join(output_folder, f\"{i+1}.parquet\")\n",
    "        try:\n",
    "            df.to_parquet(output_path, index=False, compression='gzip')\n",
    "            print(f\"Archivo exportado exitosamente: {output_path}\")\n",
    "        except Exception as e:\n",
    "            print(f\"Error al exportar {output_path}: {e}\")"
   ]
  },
  {
   "cell_type": "markdown",
   "metadata": {},
   "source": [
    "### Metadata-Sitios"
   ]
  },
  {
   "cell_type": "code",
   "execution_count": null,
   "metadata": {},
   "outputs": [
    {
     "name": "stdout",
     "output_type": "stream",
     "text": [
      "Leyendo archivo: d:\\Henry-DataScience\\LABS\\Google-Yelp\\Google-Yelp\\data\\raw\\google_maps\\org\\metadata-sitios\\1.json\n",
      "Archivo 1.json leído exitosamente con 275001 registros.\n",
      "Leyendo archivo: d:\\Henry-DataScience\\LABS\\Google-Yelp\\Google-Yelp\\data\\raw\\google_maps\\org\\metadata-sitios\\10.json\n",
      "Archivo 10.json leído exitosamente con 275001 registros.\n",
      "Leyendo archivo: d:\\Henry-DataScience\\LABS\\Google-Yelp\\Google-Yelp\\data\\raw\\google_maps\\org\\metadata-sitios\\11.json\n",
      "Archivo 11.json leído exitosamente con 275001 registros.\n",
      "Leyendo archivo: d:\\Henry-DataScience\\LABS\\Google-Yelp\\Google-Yelp\\data\\raw\\google_maps\\org\\metadata-sitios\\2.json\n",
      "Archivo 2.json leído exitosamente con 275001 registros.\n",
      "Leyendo archivo: d:\\Henry-DataScience\\LABS\\Google-Yelp\\Google-Yelp\\data\\raw\\google_maps\\org\\metadata-sitios\\3.json\n",
      "Archivo 3.json leído exitosamente con 275001 registros.\n",
      "Leyendo archivo: d:\\Henry-DataScience\\LABS\\Google-Yelp\\Google-Yelp\\data\\raw\\google_maps\\org\\metadata-sitios\\4.json\n",
      "Archivo 4.json leído exitosamente con 275001 registros.\n",
      "Leyendo archivo: d:\\Henry-DataScience\\LABS\\Google-Yelp\\Google-Yelp\\data\\raw\\google_maps\\org\\metadata-sitios\\5.json\n",
      "Archivo 5.json leído exitosamente con 275001 registros.\n",
      "Leyendo archivo: d:\\Henry-DataScience\\LABS\\Google-Yelp\\Google-Yelp\\data\\raw\\google_maps\\org\\metadata-sitios\\6.json\n",
      "Archivo 6.json leído exitosamente con 275001 registros.\n",
      "Leyendo archivo: d:\\Henry-DataScience\\LABS\\Google-Yelp\\Google-Yelp\\data\\raw\\google_maps\\org\\metadata-sitios\\7.json\n",
      "Archivo 7.json leído exitosamente con 275001 registros.\n",
      "Leyendo archivo: d:\\Henry-DataScience\\LABS\\Google-Yelp\\Google-Yelp\\data\\raw\\google_maps\\org\\metadata-sitios\\8.json\n",
      "Archivo 8.json leído exitosamente con 275001 registros.\n",
      "Leyendo archivo: d:\\Henry-DataScience\\LABS\\Google-Yelp\\Google-Yelp\\data\\raw\\google_maps\\org\\metadata-sitios\\9.json\n",
      "Archivo 9.json leído exitosamente con 275001 registros.\n"
     ]
    }
   ],
   "source": [
    "#se utiliza la función json_files para recibir una lista con los archivos en org/metadata-sitios\n",
    "metadata = json_files(r'data\\raw\\google_maps\\org\\metadata-sitios')"
   ]
  },
  {
   "cell_type": "code",
   "execution_count": null,
   "metadata": {},
   "outputs": [
    {
     "name": "stdout",
     "output_type": "stream",
     "text": [
      "Archivo exportado exitosamente: d:\\Henry-DataScience\\LABS\\Google-Yelp\\Google-Yelp\\data\\raw\\google_maps\\metadata-sitios\\1.parquet\n",
      "Archivo exportado exitosamente: d:\\Henry-DataScience\\LABS\\Google-Yelp\\Google-Yelp\\data\\raw\\google_maps\\metadata-sitios\\2.parquet\n",
      "Archivo exportado exitosamente: d:\\Henry-DataScience\\LABS\\Google-Yelp\\Google-Yelp\\data\\raw\\google_maps\\metadata-sitios\\3.parquet\n",
      "Archivo exportado exitosamente: d:\\Henry-DataScience\\LABS\\Google-Yelp\\Google-Yelp\\data\\raw\\google_maps\\metadata-sitios\\4.parquet\n",
      "Archivo exportado exitosamente: d:\\Henry-DataScience\\LABS\\Google-Yelp\\Google-Yelp\\data\\raw\\google_maps\\metadata-sitios\\5.parquet\n",
      "Archivo exportado exitosamente: d:\\Henry-DataScience\\LABS\\Google-Yelp\\Google-Yelp\\data\\raw\\google_maps\\metadata-sitios\\6.parquet\n",
      "Archivo exportado exitosamente: d:\\Henry-DataScience\\LABS\\Google-Yelp\\Google-Yelp\\data\\raw\\google_maps\\metadata-sitios\\7.parquet\n",
      "Archivo exportado exitosamente: d:\\Henry-DataScience\\LABS\\Google-Yelp\\Google-Yelp\\data\\raw\\google_maps\\metadata-sitios\\8.parquet\n",
      "Archivo exportado exitosamente: d:\\Henry-DataScience\\LABS\\Google-Yelp\\Google-Yelp\\data\\raw\\google_maps\\metadata-sitios\\9.parquet\n",
      "Archivo exportado exitosamente: d:\\Henry-DataScience\\LABS\\Google-Yelp\\Google-Yelp\\data\\raw\\google_maps\\metadata-sitios\\10.parquet\n",
      "Archivo exportado exitosamente: d:\\Henry-DataScience\\LABS\\Google-Yelp\\Google-Yelp\\data\\raw\\google_maps\\metadata-sitios\\11.parquet\n"
     ]
    }
   ],
   "source": [
    "#se utiliza la función export_parquet(dfs, path) para exportar los archivos en metadata-sitios\n",
    "export_parquet(metadata, r'data\\raw\\google_maps\\metadata-sitios')"
   ]
  },
  {
   "cell_type": "markdown",
   "metadata": {},
   "source": [
    "### New York"
   ]
  },
  {
   "cell_type": "code",
   "execution_count": null,
   "metadata": {},
   "outputs": [
    {
     "name": "stdout",
     "output_type": "stream",
     "text": [
      "Leyendo archivo: d:\\Henry-DataScience\\LABS\\Google-Yelp\\Google-Yelp\\data/raw/google_maps/org/reviews-estados/review-New_York\\1.json\n",
      "Archivo 1.json leído exitosamente con 150000 registros.\n",
      "Leyendo archivo: d:\\Henry-DataScience\\LABS\\Google-Yelp\\Google-Yelp\\data/raw/google_maps/org/reviews-estados/review-New_York\\10.json\n",
      "Archivo 10.json leído exitosamente con 150000 registros.\n",
      "Leyendo archivo: d:\\Henry-DataScience\\LABS\\Google-Yelp\\Google-Yelp\\data/raw/google_maps/org/reviews-estados/review-New_York\\11.json\n",
      "Archivo 11.json leído exitosamente con 150000 registros.\n",
      "Leyendo archivo: d:\\Henry-DataScience\\LABS\\Google-Yelp\\Google-Yelp\\data/raw/google_maps/org/reviews-estados/review-New_York\\12.json\n",
      "Archivo 12.json leído exitosamente con 150000 registros.\n",
      "Leyendo archivo: d:\\Henry-DataScience\\LABS\\Google-Yelp\\Google-Yelp\\data/raw/google_maps/org/reviews-estados/review-New_York\\13.json\n",
      "Archivo 13.json leído exitosamente con 150000 registros.\n",
      "Leyendo archivo: d:\\Henry-DataScience\\LABS\\Google-Yelp\\Google-Yelp\\data/raw/google_maps/org/reviews-estados/review-New_York\\14.json\n",
      "Archivo 14.json leído exitosamente con 150000 registros.\n",
      "Leyendo archivo: d:\\Henry-DataScience\\LABS\\Google-Yelp\\Google-Yelp\\data/raw/google_maps/org/reviews-estados/review-New_York\\15.json\n",
      "Archivo 15.json leído exitosamente con 150000 registros.\n",
      "Leyendo archivo: d:\\Henry-DataScience\\LABS\\Google-Yelp\\Google-Yelp\\data/raw/google_maps/org/reviews-estados/review-New_York\\16.json\n",
      "Archivo 16.json leído exitosamente con 150000 registros.\n",
      "Leyendo archivo: d:\\Henry-DataScience\\LABS\\Google-Yelp\\Google-Yelp\\data/raw/google_maps/org/reviews-estados/review-New_York\\17.json\n",
      "Archivo 17.json leído exitosamente con 150000 registros.\n",
      "Leyendo archivo: d:\\Henry-DataScience\\LABS\\Google-Yelp\\Google-Yelp\\data/raw/google_maps/org/reviews-estados/review-New_York\\18.json\n",
      "Archivo 18.json leído exitosamente con 150000 registros.\n",
      "Leyendo archivo: d:\\Henry-DataScience\\LABS\\Google-Yelp\\Google-Yelp\\data/raw/google_maps/org/reviews-estados/review-New_York\\2.json\n",
      "Archivo 2.json leído exitosamente con 150000 registros.\n",
      "Leyendo archivo: d:\\Henry-DataScience\\LABS\\Google-Yelp\\Google-Yelp\\data/raw/google_maps/org/reviews-estados/review-New_York\\3.json\n",
      "Archivo 3.json leído exitosamente con 150000 registros.\n",
      "Leyendo archivo: d:\\Henry-DataScience\\LABS\\Google-Yelp\\Google-Yelp\\data/raw/google_maps/org/reviews-estados/review-New_York\\4.json\n",
      "Archivo 4.json leído exitosamente con 150000 registros.\n",
      "Leyendo archivo: d:\\Henry-DataScience\\LABS\\Google-Yelp\\Google-Yelp\\data/raw/google_maps/org/reviews-estados/review-New_York\\5.json\n",
      "Archivo 5.json leído exitosamente con 150000 registros.\n",
      "Leyendo archivo: d:\\Henry-DataScience\\LABS\\Google-Yelp\\Google-Yelp\\data/raw/google_maps/org/reviews-estados/review-New_York\\6.json\n",
      "Archivo 6.json leído exitosamente con 150000 registros.\n",
      "Leyendo archivo: d:\\Henry-DataScience\\LABS\\Google-Yelp\\Google-Yelp\\data/raw/google_maps/org/reviews-estados/review-New_York\\7.json\n",
      "Archivo 7.json leído exitosamente con 150000 registros.\n",
      "Leyendo archivo: d:\\Henry-DataScience\\LABS\\Google-Yelp\\Google-Yelp\\data/raw/google_maps/org/reviews-estados/review-New_York\\8.json\n",
      "Archivo 8.json leído exitosamente con 150000 registros.\n",
      "Leyendo archivo: d:\\Henry-DataScience\\LABS\\Google-Yelp\\Google-Yelp\\data/raw/google_maps/org/reviews-estados/review-New_York\\9.json\n",
      "Archivo 9.json leído exitosamente con 150000 registros.\n"
     ]
    }
   ],
   "source": [
    "#se utiliza la función json_files para recibir una lista con los archivos en reviews-estados/review-New_York\n",
    "new_york = json_files('data/raw/google_maps/org/reviews-estados/review-New_York')"
   ]
  },
  {
   "cell_type": "code",
   "execution_count": 51,
   "metadata": {},
   "outputs": [
    {
     "name": "stdout",
     "output_type": "stream",
     "text": [
      "Archivo exportado exitosamente: d:\\Henry-DataScience\\LABS\\Google-Yelp\\Google-Yelp\\data/raw/google_maps/reviews-estados/review-New_York\\1.parquet\n",
      "Archivo exportado exitosamente: d:\\Henry-DataScience\\LABS\\Google-Yelp\\Google-Yelp\\data/raw/google_maps/reviews-estados/review-New_York\\2.parquet\n",
      "Archivo exportado exitosamente: d:\\Henry-DataScience\\LABS\\Google-Yelp\\Google-Yelp\\data/raw/google_maps/reviews-estados/review-New_York\\3.parquet\n",
      "Archivo exportado exitosamente: d:\\Henry-DataScience\\LABS\\Google-Yelp\\Google-Yelp\\data/raw/google_maps/reviews-estados/review-New_York\\4.parquet\n",
      "Archivo exportado exitosamente: d:\\Henry-DataScience\\LABS\\Google-Yelp\\Google-Yelp\\data/raw/google_maps/reviews-estados/review-New_York\\5.parquet\n",
      "Archivo exportado exitosamente: d:\\Henry-DataScience\\LABS\\Google-Yelp\\Google-Yelp\\data/raw/google_maps/reviews-estados/review-New_York\\6.parquet\n",
      "Archivo exportado exitosamente: d:\\Henry-DataScience\\LABS\\Google-Yelp\\Google-Yelp\\data/raw/google_maps/reviews-estados/review-New_York\\7.parquet\n",
      "Archivo exportado exitosamente: d:\\Henry-DataScience\\LABS\\Google-Yelp\\Google-Yelp\\data/raw/google_maps/reviews-estados/review-New_York\\8.parquet\n",
      "Archivo exportado exitosamente: d:\\Henry-DataScience\\LABS\\Google-Yelp\\Google-Yelp\\data/raw/google_maps/reviews-estados/review-New_York\\9.parquet\n",
      "Archivo exportado exitosamente: d:\\Henry-DataScience\\LABS\\Google-Yelp\\Google-Yelp\\data/raw/google_maps/reviews-estados/review-New_York\\10.parquet\n",
      "Archivo exportado exitosamente: d:\\Henry-DataScience\\LABS\\Google-Yelp\\Google-Yelp\\data/raw/google_maps/reviews-estados/review-New_York\\11.parquet\n",
      "Archivo exportado exitosamente: d:\\Henry-DataScience\\LABS\\Google-Yelp\\Google-Yelp\\data/raw/google_maps/reviews-estados/review-New_York\\12.parquet\n",
      "Archivo exportado exitosamente: d:\\Henry-DataScience\\LABS\\Google-Yelp\\Google-Yelp\\data/raw/google_maps/reviews-estados/review-New_York\\13.parquet\n",
      "Archivo exportado exitosamente: d:\\Henry-DataScience\\LABS\\Google-Yelp\\Google-Yelp\\data/raw/google_maps/reviews-estados/review-New_York\\14.parquet\n",
      "Archivo exportado exitosamente: d:\\Henry-DataScience\\LABS\\Google-Yelp\\Google-Yelp\\data/raw/google_maps/reviews-estados/review-New_York\\15.parquet\n",
      "Archivo exportado exitosamente: d:\\Henry-DataScience\\LABS\\Google-Yelp\\Google-Yelp\\data/raw/google_maps/reviews-estados/review-New_York\\16.parquet\n",
      "Archivo exportado exitosamente: d:\\Henry-DataScience\\LABS\\Google-Yelp\\Google-Yelp\\data/raw/google_maps/reviews-estados/review-New_York\\17.parquet\n",
      "Archivo exportado exitosamente: d:\\Henry-DataScience\\LABS\\Google-Yelp\\Google-Yelp\\data/raw/google_maps/reviews-estados/review-New_York\\18.parquet\n"
     ]
    }
   ],
   "source": [
    "#se utiliza la función export_parquet(dfs, path) para exportar los archivos en reviews-estados/review-New_York\n",
    "export_parquet(new_york, 'data/raw/google_maps/reviews-estados/review-New_York')"
   ]
  },
  {
   "cell_type": "markdown",
   "metadata": {},
   "source": [
    "### California"
   ]
  },
  {
   "cell_type": "code",
   "execution_count": 52,
   "metadata": {},
   "outputs": [
    {
     "name": "stdout",
     "output_type": "stream",
     "text": [
      "Leyendo archivo: d:\\Henry-DataScience\\LABS\\Google-Yelp\\Google-Yelp\\data/raw/google_maps/org/reviews-estados/review-California\\1.json\n",
      "Archivo 1.json leído exitosamente con 150000 registros.\n",
      "Leyendo archivo: d:\\Henry-DataScience\\LABS\\Google-Yelp\\Google-Yelp\\data/raw/google_maps/org/reviews-estados/review-California\\10.json\n",
      "Archivo 10.json leído exitosamente con 150000 registros.\n",
      "Leyendo archivo: d:\\Henry-DataScience\\LABS\\Google-Yelp\\Google-Yelp\\data/raw/google_maps/org/reviews-estados/review-California\\11.json\n",
      "Archivo 11.json leído exitosamente con 150000 registros.\n",
      "Leyendo archivo: d:\\Henry-DataScience\\LABS\\Google-Yelp\\Google-Yelp\\data/raw/google_maps/org/reviews-estados/review-California\\12.json\n",
      "Archivo 12.json leído exitosamente con 150000 registros.\n",
      "Leyendo archivo: d:\\Henry-DataScience\\LABS\\Google-Yelp\\Google-Yelp\\data/raw/google_maps/org/reviews-estados/review-California\\13.json\n",
      "Archivo 13.json leído exitosamente con 150000 registros.\n",
      "Leyendo archivo: d:\\Henry-DataScience\\LABS\\Google-Yelp\\Google-Yelp\\data/raw/google_maps/org/reviews-estados/review-California\\14.json\n",
      "Archivo 14.json leído exitosamente con 150000 registros.\n",
      "Leyendo archivo: d:\\Henry-DataScience\\LABS\\Google-Yelp\\Google-Yelp\\data/raw/google_maps/org/reviews-estados/review-California\\15.json\n",
      "Archivo 15.json leído exitosamente con 150000 registros.\n",
      "Leyendo archivo: d:\\Henry-DataScience\\LABS\\Google-Yelp\\Google-Yelp\\data/raw/google_maps/org/reviews-estados/review-California\\16.json\n",
      "Archivo 16.json leído exitosamente con 150000 registros.\n",
      "Leyendo archivo: d:\\Henry-DataScience\\LABS\\Google-Yelp\\Google-Yelp\\data/raw/google_maps/org/reviews-estados/review-California\\17.json\n",
      "Archivo 17.json leído exitosamente con 150000 registros.\n",
      "Leyendo archivo: d:\\Henry-DataScience\\LABS\\Google-Yelp\\Google-Yelp\\data/raw/google_maps/org/reviews-estados/review-California\\18.json\n",
      "Archivo 18.json leído exitosamente con 150000 registros.\n",
      "Leyendo archivo: d:\\Henry-DataScience\\LABS\\Google-Yelp\\Google-Yelp\\data/raw/google_maps/org/reviews-estados/review-California\\2.json\n",
      "Archivo 2.json leído exitosamente con 150000 registros.\n",
      "Leyendo archivo: d:\\Henry-DataScience\\LABS\\Google-Yelp\\Google-Yelp\\data/raw/google_maps/org/reviews-estados/review-California\\3.json\n",
      "Archivo 3.json leído exitosamente con 150000 registros.\n",
      "Leyendo archivo: d:\\Henry-DataScience\\LABS\\Google-Yelp\\Google-Yelp\\data/raw/google_maps/org/reviews-estados/review-California\\4.json\n",
      "Archivo 4.json leído exitosamente con 150000 registros.\n",
      "Leyendo archivo: d:\\Henry-DataScience\\LABS\\Google-Yelp\\Google-Yelp\\data/raw/google_maps/org/reviews-estados/review-California\\5.json\n",
      "Archivo 5.json leído exitosamente con 150000 registros.\n",
      "Leyendo archivo: d:\\Henry-DataScience\\LABS\\Google-Yelp\\Google-Yelp\\data/raw/google_maps/org/reviews-estados/review-California\\6.json\n",
      "Archivo 6.json leído exitosamente con 150000 registros.\n",
      "Leyendo archivo: d:\\Henry-DataScience\\LABS\\Google-Yelp\\Google-Yelp\\data/raw/google_maps/org/reviews-estados/review-California\\7.json\n",
      "Archivo 7.json leído exitosamente con 150000 registros.\n",
      "Leyendo archivo: d:\\Henry-DataScience\\LABS\\Google-Yelp\\Google-Yelp\\data/raw/google_maps/org/reviews-estados/review-California\\8.json\n",
      "Archivo 8.json leído exitosamente con 150000 registros.\n",
      "Leyendo archivo: d:\\Henry-DataScience\\LABS\\Google-Yelp\\Google-Yelp\\data/raw/google_maps/org/reviews-estados/review-California\\9.json\n",
      "Archivo 9.json leído exitosamente con 150000 registros.\n"
     ]
    }
   ],
   "source": [
    "#se utiliza la función json_files para recibir una lista con los archivos en org/reviews-estados/review-California\n",
    "california = json_files('data/raw/google_maps/org/reviews-estados/review-California')"
   ]
  },
  {
   "cell_type": "code",
   "execution_count": 53,
   "metadata": {},
   "outputs": [
    {
     "name": "stdout",
     "output_type": "stream",
     "text": [
      "Archivo exportado exitosamente: d:\\Henry-DataScience\\LABS\\Google-Yelp\\Google-Yelp\\data/raw/google_maps/reviews-estados/review-California\\1.parquet\n",
      "Archivo exportado exitosamente: d:\\Henry-DataScience\\LABS\\Google-Yelp\\Google-Yelp\\data/raw/google_maps/reviews-estados/review-California\\2.parquet\n",
      "Archivo exportado exitosamente: d:\\Henry-DataScience\\LABS\\Google-Yelp\\Google-Yelp\\data/raw/google_maps/reviews-estados/review-California\\3.parquet\n",
      "Archivo exportado exitosamente: d:\\Henry-DataScience\\LABS\\Google-Yelp\\Google-Yelp\\data/raw/google_maps/reviews-estados/review-California\\4.parquet\n",
      "Archivo exportado exitosamente: d:\\Henry-DataScience\\LABS\\Google-Yelp\\Google-Yelp\\data/raw/google_maps/reviews-estados/review-California\\5.parquet\n",
      "Archivo exportado exitosamente: d:\\Henry-DataScience\\LABS\\Google-Yelp\\Google-Yelp\\data/raw/google_maps/reviews-estados/review-California\\6.parquet\n",
      "Archivo exportado exitosamente: d:\\Henry-DataScience\\LABS\\Google-Yelp\\Google-Yelp\\data/raw/google_maps/reviews-estados/review-California\\7.parquet\n",
      "Archivo exportado exitosamente: d:\\Henry-DataScience\\LABS\\Google-Yelp\\Google-Yelp\\data/raw/google_maps/reviews-estados/review-California\\8.parquet\n",
      "Archivo exportado exitosamente: d:\\Henry-DataScience\\LABS\\Google-Yelp\\Google-Yelp\\data/raw/google_maps/reviews-estados/review-California\\9.parquet\n",
      "Archivo exportado exitosamente: d:\\Henry-DataScience\\LABS\\Google-Yelp\\Google-Yelp\\data/raw/google_maps/reviews-estados/review-California\\10.parquet\n",
      "Archivo exportado exitosamente: d:\\Henry-DataScience\\LABS\\Google-Yelp\\Google-Yelp\\data/raw/google_maps/reviews-estados/review-California\\11.parquet\n",
      "Archivo exportado exitosamente: d:\\Henry-DataScience\\LABS\\Google-Yelp\\Google-Yelp\\data/raw/google_maps/reviews-estados/review-California\\12.parquet\n",
      "Archivo exportado exitosamente: d:\\Henry-DataScience\\LABS\\Google-Yelp\\Google-Yelp\\data/raw/google_maps/reviews-estados/review-California\\13.parquet\n",
      "Archivo exportado exitosamente: d:\\Henry-DataScience\\LABS\\Google-Yelp\\Google-Yelp\\data/raw/google_maps/reviews-estados/review-California\\14.parquet\n",
      "Archivo exportado exitosamente: d:\\Henry-DataScience\\LABS\\Google-Yelp\\Google-Yelp\\data/raw/google_maps/reviews-estados/review-California\\15.parquet\n",
      "Archivo exportado exitosamente: d:\\Henry-DataScience\\LABS\\Google-Yelp\\Google-Yelp\\data/raw/google_maps/reviews-estados/review-California\\16.parquet\n",
      "Archivo exportado exitosamente: d:\\Henry-DataScience\\LABS\\Google-Yelp\\Google-Yelp\\data/raw/google_maps/reviews-estados/review-California\\17.parquet\n",
      "Archivo exportado exitosamente: d:\\Henry-DataScience\\LABS\\Google-Yelp\\Google-Yelp\\data/raw/google_maps/reviews-estados/review-California\\18.parquet\n"
     ]
    }
   ],
   "source": [
    "#se utiliza la función export_parquet(dfs, path) para exportar los archivos en reviews-estados/review-California\n",
    "export_parquet(california, 'data/raw/google_maps/reviews-estados/review-California')"
   ]
  },
  {
   "cell_type": "markdown",
   "metadata": {},
   "source": [
    "### Florida"
   ]
  },
  {
   "cell_type": "code",
   "execution_count": 6,
   "metadata": {},
   "outputs": [
    {
     "name": "stdout",
     "output_type": "stream",
     "text": [
      "Leyendo archivo: d:\\Henry-DataScience\\LABS\\Google-Yelp\\Google-Yelp\\data/raw/google_maps/org/reviews-estados/review-Florida\\1.json\n",
      "Archivo 1.json leído exitosamente con 150000 registros.\n",
      "Leyendo archivo: d:\\Henry-DataScience\\LABS\\Google-Yelp\\Google-Yelp\\data/raw/google_maps/org/reviews-estados/review-Florida\\10.json\n",
      "Archivo 10.json leído exitosamente con 150000 registros.\n",
      "Leyendo archivo: d:\\Henry-DataScience\\LABS\\Google-Yelp\\Google-Yelp\\data/raw/google_maps/org/reviews-estados/review-Florida\\11.json\n",
      "Archivo 11.json leído exitosamente con 150000 registros.\n",
      "Leyendo archivo: d:\\Henry-DataScience\\LABS\\Google-Yelp\\Google-Yelp\\data/raw/google_maps/org/reviews-estados/review-Florida\\12.json\n",
      "Archivo 12.json leído exitosamente con 150000 registros.\n",
      "Leyendo archivo: d:\\Henry-DataScience\\LABS\\Google-Yelp\\Google-Yelp\\data/raw/google_maps/org/reviews-estados/review-Florida\\13.json\n",
      "Archivo 13.json leído exitosamente con 150000 registros.\n",
      "Leyendo archivo: d:\\Henry-DataScience\\LABS\\Google-Yelp\\Google-Yelp\\data/raw/google_maps/org/reviews-estados/review-Florida\\14.json\n",
      "Archivo 14.json leído exitosamente con 150000 registros.\n",
      "Leyendo archivo: d:\\Henry-DataScience\\LABS\\Google-Yelp\\Google-Yelp\\data/raw/google_maps/org/reviews-estados/review-Florida\\15.json\n",
      "Archivo 15.json leído exitosamente con 150000 registros.\n",
      "Leyendo archivo: d:\\Henry-DataScience\\LABS\\Google-Yelp\\Google-Yelp\\data/raw/google_maps/org/reviews-estados/review-Florida\\16.json\n",
      "Archivo 16.json leído exitosamente con 150000 registros.\n",
      "Leyendo archivo: d:\\Henry-DataScience\\LABS\\Google-Yelp\\Google-Yelp\\data/raw/google_maps/org/reviews-estados/review-Florida\\17.json\n",
      "Archivo 17.json leído exitosamente con 150000 registros.\n",
      "Leyendo archivo: d:\\Henry-DataScience\\LABS\\Google-Yelp\\Google-Yelp\\data/raw/google_maps/org/reviews-estados/review-Florida\\18.json\n",
      "Archivo 18.json leído exitosamente con 150000 registros.\n",
      "Leyendo archivo: d:\\Henry-DataScience\\LABS\\Google-Yelp\\Google-Yelp\\data/raw/google_maps/org/reviews-estados/review-Florida\\19.json\n",
      "Archivo 19.json leído exitosamente con 150000 registros.\n",
      "Leyendo archivo: d:\\Henry-DataScience\\LABS\\Google-Yelp\\Google-Yelp\\data/raw/google_maps/org/reviews-estados/review-Florida\\2.json\n",
      "Archivo 2.json leído exitosamente con 150000 registros.\n",
      "Leyendo archivo: d:\\Henry-DataScience\\LABS\\Google-Yelp\\Google-Yelp\\data/raw/google_maps/org/reviews-estados/review-Florida\\3.json\n",
      "Archivo 3.json leído exitosamente con 150000 registros.\n",
      "Leyendo archivo: d:\\Henry-DataScience\\LABS\\Google-Yelp\\Google-Yelp\\data/raw/google_maps/org/reviews-estados/review-Florida\\4.json\n",
      "Archivo 4.json leído exitosamente con 150000 registros.\n",
      "Leyendo archivo: d:\\Henry-DataScience\\LABS\\Google-Yelp\\Google-Yelp\\data/raw/google_maps/org/reviews-estados/review-Florida\\5.json\n",
      "Archivo 5.json leído exitosamente con 150000 registros.\n",
      "Leyendo archivo: d:\\Henry-DataScience\\LABS\\Google-Yelp\\Google-Yelp\\data/raw/google_maps/org/reviews-estados/review-Florida\\6.json\n",
      "Archivo 6.json leído exitosamente con 150000 registros.\n",
      "Leyendo archivo: d:\\Henry-DataScience\\LABS\\Google-Yelp\\Google-Yelp\\data/raw/google_maps/org/reviews-estados/review-Florida\\7.json\n",
      "Archivo 7.json leído exitosamente con 150000 registros.\n",
      "Leyendo archivo: d:\\Henry-DataScience\\LABS\\Google-Yelp\\Google-Yelp\\data/raw/google_maps/org/reviews-estados/review-Florida\\8.json\n",
      "Archivo 8.json leído exitosamente con 150000 registros.\n",
      "Leyendo archivo: d:\\Henry-DataScience\\LABS\\Google-Yelp\\Google-Yelp\\data/raw/google_maps/org/reviews-estados/review-Florida\\9.json\n",
      "Archivo 9.json leído exitosamente con 150000 registros.\n"
     ]
    }
   ],
   "source": [
    "#se utiliza la función json_files para recibir una lista con los archivos en org/reviews-estados/review-Florida\n",
    "florida = json_files('data/raw/google_maps/org/reviews-estados/review-Florida')"
   ]
  },
  {
   "cell_type": "code",
   "execution_count": 7,
   "metadata": {},
   "outputs": [
    {
     "name": "stdout",
     "output_type": "stream",
     "text": [
      "Archivo exportado exitosamente: d:\\Henry-DataScience\\LABS\\Google-Yelp\\Google-Yelp\\data/raw/google_maps/reviews-estados/review-Florida\\1.parquet\n",
      "Archivo exportado exitosamente: d:\\Henry-DataScience\\LABS\\Google-Yelp\\Google-Yelp\\data/raw/google_maps/reviews-estados/review-Florida\\2.parquet\n",
      "Archivo exportado exitosamente: d:\\Henry-DataScience\\LABS\\Google-Yelp\\Google-Yelp\\data/raw/google_maps/reviews-estados/review-Florida\\3.parquet\n",
      "Archivo exportado exitosamente: d:\\Henry-DataScience\\LABS\\Google-Yelp\\Google-Yelp\\data/raw/google_maps/reviews-estados/review-Florida\\4.parquet\n",
      "Archivo exportado exitosamente: d:\\Henry-DataScience\\LABS\\Google-Yelp\\Google-Yelp\\data/raw/google_maps/reviews-estados/review-Florida\\5.parquet\n",
      "Archivo exportado exitosamente: d:\\Henry-DataScience\\LABS\\Google-Yelp\\Google-Yelp\\data/raw/google_maps/reviews-estados/review-Florida\\6.parquet\n",
      "Archivo exportado exitosamente: d:\\Henry-DataScience\\LABS\\Google-Yelp\\Google-Yelp\\data/raw/google_maps/reviews-estados/review-Florida\\7.parquet\n",
      "Archivo exportado exitosamente: d:\\Henry-DataScience\\LABS\\Google-Yelp\\Google-Yelp\\data/raw/google_maps/reviews-estados/review-Florida\\8.parquet\n",
      "Archivo exportado exitosamente: d:\\Henry-DataScience\\LABS\\Google-Yelp\\Google-Yelp\\data/raw/google_maps/reviews-estados/review-Florida\\9.parquet\n",
      "Archivo exportado exitosamente: d:\\Henry-DataScience\\LABS\\Google-Yelp\\Google-Yelp\\data/raw/google_maps/reviews-estados/review-Florida\\10.parquet\n",
      "Archivo exportado exitosamente: d:\\Henry-DataScience\\LABS\\Google-Yelp\\Google-Yelp\\data/raw/google_maps/reviews-estados/review-Florida\\11.parquet\n",
      "Archivo exportado exitosamente: d:\\Henry-DataScience\\LABS\\Google-Yelp\\Google-Yelp\\data/raw/google_maps/reviews-estados/review-Florida\\12.parquet\n",
      "Archivo exportado exitosamente: d:\\Henry-DataScience\\LABS\\Google-Yelp\\Google-Yelp\\data/raw/google_maps/reviews-estados/review-Florida\\13.parquet\n",
      "Archivo exportado exitosamente: d:\\Henry-DataScience\\LABS\\Google-Yelp\\Google-Yelp\\data/raw/google_maps/reviews-estados/review-Florida\\14.parquet\n",
      "Archivo exportado exitosamente: d:\\Henry-DataScience\\LABS\\Google-Yelp\\Google-Yelp\\data/raw/google_maps/reviews-estados/review-Florida\\15.parquet\n",
      "Archivo exportado exitosamente: d:\\Henry-DataScience\\LABS\\Google-Yelp\\Google-Yelp\\data/raw/google_maps/reviews-estados/review-Florida\\16.parquet\n",
      "Archivo exportado exitosamente: d:\\Henry-DataScience\\LABS\\Google-Yelp\\Google-Yelp\\data/raw/google_maps/reviews-estados/review-Florida\\17.parquet\n",
      "Archivo exportado exitosamente: d:\\Henry-DataScience\\LABS\\Google-Yelp\\Google-Yelp\\data/raw/google_maps/reviews-estados/review-Florida\\18.parquet\n",
      "Archivo exportado exitosamente: d:\\Henry-DataScience\\LABS\\Google-Yelp\\Google-Yelp\\data/raw/google_maps/reviews-estados/review-Florida\\19.parquet\n"
     ]
    }
   ],
   "source": [
    "#se utiliza la función export_parquet(dfs, path) para exportar los archivos en reviews-estados/review-Florida\n",
    "export_parquet(florida, 'data/raw/google_maps/reviews-estados/review-Florida')"
   ]
  }
 ],
 "metadata": {
  "kernelspec": {
   "display_name": "Python 3",
   "language": "python",
   "name": "python3"
  },
  "language_info": {
   "codemirror_mode": {
    "name": "ipython",
    "version": 3
   },
   "file_extension": ".py",
   "mimetype": "text/x-python",
   "name": "python",
   "nbconvert_exporter": "python",
   "pygments_lexer": "ipython3",
   "version": "3.10.11"
  }
 },
 "nbformat": 4,
 "nbformat_minor": 2
}
